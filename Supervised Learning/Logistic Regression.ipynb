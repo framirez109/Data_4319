{
 "cells": [
  {
   "cell_type": "markdown",
   "metadata": {},
   "source": [
    "<h1>Logistic Regression</h1>\n",
    "\n",
    "Logistic regression is a well-known type of classification in linear modeling. Logistic Regression is commonly used to estimate the probability that an instance belongs to a particular class. If the estimated probability is greater than 50% then the model predicts that the instance belongs to that class (called positive class, labeled \"1\") and otherwise it predicts that it does not(i.e, it belongs to the negative class, labeled \"0\"). This makes it a binary classifier.\n",
    "\n",
    "<h2>How does it work?</h2>\n",
    "\n",
    "Logistic regression model computes a weighted sum of the input features (plus a bias term) but instead of outputting the result directly like a Linear model does, it outputs the logistic of this model. \n",
    "\n",
    "$$p hat = hθ x = σ x⊺θ$$\n",
    "\n",
    "The logistic-noted  σ(·) is a sigmoid function (i.e., S-shaped) that outputs a number between 0 and 1.\n",
    "\n",
    "σ(t) = 1/1+exp −t\n",
    "\n",
    "Once the Logistic Regression model has estimated the probability p = hθ(x) that an instance x belongs to the positive class, it can make its prediction ŷ easily. In the following example, lets see if the mean radius of breast mass can help us classify it as either malignant or benign."
   ]
  },
  {
   "cell_type": "code",
   "execution_count": 251,
   "metadata": {},
   "outputs": [],
   "source": [
    "from sklearn import datasets\n",
    "from sklearn.linear_model import LogisticRegression\n",
    "import numpy as np\n",
    "import seaborn as sns\n",
    "import matplotlib.pyplot as plt\n",
    "\n",
    "\n",
    "breast_cancer = datasets.load_breast_cancer()\n",
    "\n",
    "X = breast_cancer[\"data\"][:, 0] # mean_radius\n",
    "y = (breast_cancer[\"target\"] == 0).astype(np.int) # 0 if malignant, else 1, benign\n",
    "G = X.reshape(-1,1)"
   ]
  },
  {
   "cell_type": "markdown",
   "metadata": {},
   "source": [
    "The target is 0 if it is malignant or 1 if it is benign."
   ]
  },
  {
   "cell_type": "code",
   "execution_count": 252,
   "metadata": {},
   "outputs": [
    {
     "data": {
      "text/plain": [
       "LogisticRegression()"
      ]
     },
     "execution_count": 252,
     "metadata": {},
     "output_type": "execute_result"
    }
   ],
   "source": [
    "log_reg = LogisticRegression()\n",
    "log_reg.fit(G, y)"
   ]
  },
  {
   "cell_type": "code",
   "execution_count": 253,
   "metadata": {},
   "outputs": [
    {
     "data": {
      "text/plain": [
       "<matplotlib.legend.Legend at 0x7ff423e6ab20>"
      ]
     },
     "execution_count": 253,
     "metadata": {},
     "output_type": "execute_result"
    },
    {
     "data": {
      "image/png": "[encoded data removed]",
      "text/plain": [
       "<Figure size 432x288 with 1 Axes>"
      ]
     },
     "metadata": {
      "needs_background": "light"
     },
     "output_type": "display_data"
    }
   ],
   "source": [
    "X_new = np.linspace(0, 22, 1000).reshape(-1, 1)\n",
    "y_proba = log_reg.predict_proba(X_new)\n",
    "plt.plot(X_new, y_proba[:, 1], \"g-\", label=\"Malignant\") \n",
    "plt.plot(X_new, y_proba[:, 0], \"b-\", label=\"Not Malignant\")\n",
    "plt.title('Probability of Malignant Tumor (Radius Based)')\n",
    "plt.xlabel('Mean Radius (cm)')\n",
    "plt.ylabel('Probability')\n",
    "plt.legend()"
   ]
  },
  {
   "cell_type": "markdown",
   "metadata": {},
   "source": [
    "The mean radius ranges from 0 to 20 cm. Above the 15 cm raidus the classifier is highly confident the breast mass is malignant cancer while below 15 cm it is highly confident that is not malignant."
   ]
  },
  {
   "cell_type": "code",
   "execution_count": 254,
   "metadata": {},
   "outputs": [
    {
     "data": {
      "text/plain": [
       "array([1, 1])"
      ]
     },
     "execution_count": 254,
     "metadata": {},
     "output_type": "execute_result"
    }
   ],
   "source": [
    "log_reg.predict([[15.3], [18]])"
   ]
  },
  {
   "cell_type": "markdown",
   "metadata": {},
   "source": [
    "As we can see 15.3 (representing the mean raidus of the breast mass) will be assigned a value of 1 representing a high likelihood the breast mass is malignant while a value of 0 represents a low likelihood the breast mass is benign."
   ]
  }
 ],
 "metadata": {
  "kernelspec": {
   "display_name": "Python 3",
   "language": "python",
   "name": "python3"
  },
  "language_info": {
   "codemirror_mode": {
    "name": "ipython",
    "version": 3
   },
   "file_extension": ".py",
   "mimetype": "text/x-python",
   "name": "python",
   "nbconvert_exporter": "python",
   "pygments_lexer": "ipython3",
   "version": "3.8.3"
  }
 },
 "nbformat": 4,
 "nbformat_minor": 4
}
